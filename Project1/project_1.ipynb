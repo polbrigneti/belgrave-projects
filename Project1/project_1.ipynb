{
 "cells": [
  {
   "cell_type": "markdown",
   "metadata": {},
   "source": [
    "# Project 1\n",
    "\n",
    "## Step 1: Open the `sat_scores.csv` file. Investigate the data, and answer the questions below.\n"
   ]
  },
  {
   "cell_type": "markdown",
   "metadata": {},
   "source": [
    "##### 1. What does the data describe?"
   ]
  },
  {
   "cell_type": "markdown",
   "metadata": {},
   "source": []
  },
  {
   "cell_type": "markdown",
   "metadata": {},
   "source": [
    "##### 2. Does the data look complete? Are there any obvious issues with the observations?"
   ]
  },
  {
   "cell_type": "markdown",
   "metadata": {},
   "source": []
  },
  {
   "cell_type": "markdown",
   "metadata": {},
   "source": [
    "##### 3. Create a data dictionary for the dataset."
   ]
  },
  {
   "cell_type": "markdown",
   "metadata": {
    "collapsed": true
   },
   "source": []
  },
  {
   "cell_type": "markdown",
   "metadata": {},
   "source": [
    "## Step 2: Load the data."
   ]
  },
  {
   "cell_type": "markdown",
   "metadata": {},
   "source": [
    "##### 4. Load the data into a list of lists"
   ]
  },
  {
   "cell_type": "code",
   "execution_count": 1,
   "metadata": {},
   "outputs": [],
   "source": [
    "import pandas as pd"
   ]
  },
  {
   "cell_type": "code",
   "execution_count": 2,
   "metadata": {},
   "outputs": [],
   "source": [
    "sat_data = pd.read_csv('sat score.txt')"
   ]
  },
  {
   "cell_type": "code",
   "execution_count": null,
   "metadata": {},
   "outputs": [],
   "source": []
  },
  {
   "cell_type": "markdown",
   "metadata": {},
   "source": [
    "##### 5. Print the data"
   ]
  },
  {
   "cell_type": "code",
   "execution_count": 3,
   "metadata": {},
   "outputs": [
    {
     "data": {
      "text/html": [
       "<div>\n",
       "<style scoped>\n",
       "    .dataframe tbody tr th:only-of-type {\n",
       "        vertical-align: middle;\n",
       "    }\n",
       "\n",
       "    .dataframe tbody tr th {\n",
       "        vertical-align: top;\n",
       "    }\n",
       "\n",
       "    .dataframe thead th {\n",
       "        text-align: right;\n",
       "    }\n",
       "</style>\n",
       "<table border=\"1\" class=\"dataframe\">\n",
       "  <thead>\n",
       "    <tr style=\"text-align: right;\">\n",
       "      <th></th>\n",
       "      <th>State</th>\n",
       "      <th>Rate</th>\n",
       "      <th>Verbal</th>\n",
       "      <th>Math</th>\n",
       "    </tr>\n",
       "  </thead>\n",
       "  <tbody>\n",
       "    <tr>\n",
       "      <th>0</th>\n",
       "      <td>CT</td>\n",
       "      <td>82</td>\n",
       "      <td>509</td>\n",
       "      <td>510</td>\n",
       "    </tr>\n",
       "    <tr>\n",
       "      <th>1</th>\n",
       "      <td>NJ</td>\n",
       "      <td>81</td>\n",
       "      <td>499</td>\n",
       "      <td>513</td>\n",
       "    </tr>\n",
       "    <tr>\n",
       "      <th>2</th>\n",
       "      <td>MA</td>\n",
       "      <td>79</td>\n",
       "      <td>511</td>\n",
       "      <td>515</td>\n",
       "    </tr>\n",
       "    <tr>\n",
       "      <th>3</th>\n",
       "      <td>NY</td>\n",
       "      <td>77</td>\n",
       "      <td>495</td>\n",
       "      <td>505</td>\n",
       "    </tr>\n",
       "    <tr>\n",
       "      <th>4</th>\n",
       "      <td>NH</td>\n",
       "      <td>72</td>\n",
       "      <td>520</td>\n",
       "      <td>516</td>\n",
       "    </tr>\n",
       "  </tbody>\n",
       "</table>\n",
       "</div>"
      ],
      "text/plain": [
       "  State  Rate  Verbal  Math\n",
       "0    CT    82     509   510\n",
       "1    NJ    81     499   513\n",
       "2    MA    79     511   515\n",
       "3    NY    77     495   505\n",
       "4    NH    72     520   516"
      ]
     },
     "execution_count": 3,
     "metadata": {},
     "output_type": "execute_result"
    }
   ],
   "source": [
    "sat_data.head()"
   ]
  },
  {
   "cell_type": "markdown",
   "metadata": {
    "collapsed": true
   },
   "source": [
    "##### 6. Extract a list of the labels from the data, and remove them from the data."
   ]
  },
  {
   "cell_type": "code",
   "execution_count": 4,
   "metadata": {},
   "outputs": [
    {
     "data": {
      "text/plain": [
       "Index([u'State', u'Rate', u'Verbal', u'Math'], dtype='object')"
      ]
     },
     "execution_count": 4,
     "metadata": {},
     "output_type": "execute_result"
    }
   ],
   "source": [
    "sat_data.columns"
   ]
  },
  {
   "cell_type": "code",
   "execution_count": null,
   "metadata": {},
   "outputs": [],
   "source": []
  },
  {
   "cell_type": "code",
   "execution_count": 5,
   "metadata": {},
   "outputs": [],
   "source": [
    "#sat_data = pd.read_csv('sat score.txt', header=None)\n",
    "#at_data.drop(index=0)"
   ]
  },
  {
   "cell_type": "markdown",
   "metadata": {},
   "source": [
    "##### 7. Create a list of State names extracted from the data. (Hint: use the list of labels to index on the State column)"
   ]
  },
  {
   "cell_type": "code",
   "execution_count": 23,
   "metadata": {
    "scrolled": true
   },
   "outputs": [
    {
     "data": {
      "text/plain": [
       "['CT', 'NJ', 'MA', 'NY', 'NH']"
      ]
     },
     "execution_count": 23,
     "metadata": {},
     "output_type": "execute_result"
    }
   ],
   "source": [
    "state_names = sat_data['State'].tolist()\n",
    "state_names[0:5]"
   ]
  },
  {
   "cell_type": "markdown",
   "metadata": {},
   "source": [
    "##### 8. Print the types of each column"
   ]
  },
  {
   "cell_type": "code",
   "execution_count": 18,
   "metadata": {},
   "outputs": [
    {
     "data": {
      "text/plain": [
       "State     object\n",
       "Rate       int64\n",
       "Verbal     int64\n",
       "Math       int64\n",
       "dtype: object"
      ]
     },
     "execution_count": 18,
     "metadata": {},
     "output_type": "execute_result"
    }
   ],
   "source": [
    "sat_data.dtypes"
   ]
  },
  {
   "cell_type": "markdown",
   "metadata": {},
   "source": [
    "##### 9. Do any types need to be reassigned? If so, go ahead and do it."
   ]
  },
  {
   "cell_type": "code",
   "execution_count": null,
   "metadata": {},
   "outputs": [],
   "source": [
    "#None have to be reassigned"
   ]
  },
  {
   "cell_type": "markdown",
   "metadata": {},
   "source": [
    "##### 10. Create a dictionary for each column mapping the State to its respective value for that column. "
   ]
  },
  {
   "cell_type": "code",
   "execution_count": 37,
   "metadata": {
    "collapsed": true
   },
   "outputs": [
    {
     "data": {
      "text/plain": [
       "{'AK': 514,\n",
       " 'AL': 559,\n",
       " 'AR': 562,\n",
       " 'AZ': 523,\n",
       " 'All': 506,\n",
       " 'CA': 498,\n",
       " 'CO': 539,\n",
       " 'CT': 509,\n",
       " 'DC': 482,\n",
       " 'DE': 501,\n",
       " 'FL': 498,\n",
       " 'GA': 491,\n",
       " 'HI': 485,\n",
       " 'IA': 593,\n",
       " 'ID': 543,\n",
       " 'IL': 576,\n",
       " 'IN': 499,\n",
       " 'KS': 577,\n",
       " 'KY': 550,\n",
       " 'LA': 564,\n",
       " 'MA': 511,\n",
       " 'MD': 508,\n",
       " 'ME': 506,\n",
       " 'MI': 561,\n",
       " 'MN': 580,\n",
       " 'MO': 577,\n",
       " 'MS': 566,\n",
       " 'MT': 539,\n",
       " 'NC': 493,\n",
       " 'ND': 592,\n",
       " 'NE': 562,\n",
       " 'NH': 520,\n",
       " 'NJ': 499,\n",
       " 'NM': 551,\n",
       " 'NV': 509,\n",
       " 'NY': 495,\n",
       " 'OH': 534,\n",
       " 'OK': 567,\n",
       " 'OR': 526,\n",
       " 'PA': 500,\n",
       " 'RI': 501,\n",
       " 'SC': 486,\n",
       " 'SD': 577,\n",
       " 'TN': 562,\n",
       " 'TX': 493,\n",
       " 'UT': 575,\n",
       " 'VA': 510,\n",
       " 'VT': 511,\n",
       " 'WA': 527,\n",
       " 'WI': 584,\n",
       " 'WV': 527,\n",
       " 'WY': 547}"
      ]
     },
     "execution_count": 37,
     "metadata": {},
     "output_type": "execute_result"
    }
   ],
   "source": [
    "verbal_dict = dict(zip(sat_data['State'],sat_data['Verbal']))\n",
    "verbal_dict"
   ]
  },
  {
   "cell_type": "code",
   "execution_count": 38,
   "metadata": {
    "collapsed": true
   },
   "outputs": [
    {
     "data": {
      "text/plain": [
       "{'AK': 51,\n",
       " 'AL': 9,\n",
       " 'AR': 6,\n",
       " 'AZ': 34,\n",
       " 'All': 45,\n",
       " 'CA': 51,\n",
       " 'CO': 31,\n",
       " 'CT': 82,\n",
       " 'DC': 56,\n",
       " 'DE': 67,\n",
       " 'FL': 54,\n",
       " 'GA': 63,\n",
       " 'HI': 52,\n",
       " 'IA': 5,\n",
       " 'ID': 17,\n",
       " 'IL': 12,\n",
       " 'IN': 60,\n",
       " 'KS': 9,\n",
       " 'KY': 12,\n",
       " 'LA': 7,\n",
       " 'MA': 79,\n",
       " 'MD': 65,\n",
       " 'ME': 69,\n",
       " 'MI': 11,\n",
       " 'MN': 9,\n",
       " 'MO': 8,\n",
       " 'MS': 4,\n",
       " 'MT': 23,\n",
       " 'NC': 65,\n",
       " 'ND': 4,\n",
       " 'NE': 8,\n",
       " 'NH': 72,\n",
       " 'NJ': 81,\n",
       " 'NM': 13,\n",
       " 'NV': 33,\n",
       " 'NY': 77,\n",
       " 'OH': 26,\n",
       " 'OK': 8,\n",
       " 'OR': 55,\n",
       " 'PA': 71,\n",
       " 'RI': 71,\n",
       " 'SC': 57,\n",
       " 'SD': 4,\n",
       " 'TN': 13,\n",
       " 'TX': 53,\n",
       " 'UT': 5,\n",
       " 'VA': 68,\n",
       " 'VT': 69,\n",
       " 'WA': 53,\n",
       " 'WI': 6,\n",
       " 'WV': 18,\n",
       " 'WY': 11}"
      ]
     },
     "execution_count": 38,
     "metadata": {},
     "output_type": "execute_result"
    }
   ],
   "source": [
    "rate_dict = dict(zip(sat_data['State'],sat_data['Rate']))\n",
    "rate_dict"
   ]
  },
  {
   "cell_type": "code",
   "execution_count": 39,
   "metadata": {
    "collapsed": true
   },
   "outputs": [
    {
     "data": {
      "text/plain": [
       "{'AK': 510,\n",
       " 'AL': 554,\n",
       " 'AR': 550,\n",
       " 'AZ': 525,\n",
       " 'All': 514,\n",
       " 'CA': 517,\n",
       " 'CO': 542,\n",
       " 'CT': 510,\n",
       " 'DC': 474,\n",
       " 'DE': 499,\n",
       " 'FL': 499,\n",
       " 'GA': 489,\n",
       " 'HI': 515,\n",
       " 'IA': 603,\n",
       " 'ID': 542,\n",
       " 'IL': 589,\n",
       " 'IN': 501,\n",
       " 'KS': 580,\n",
       " 'KY': 550,\n",
       " 'LA': 562,\n",
       " 'MA': 515,\n",
       " 'MD': 510,\n",
       " 'ME': 500,\n",
       " 'MI': 572,\n",
       " 'MN': 589,\n",
       " 'MO': 577,\n",
       " 'MS': 551,\n",
       " 'MT': 539,\n",
       " 'NC': 499,\n",
       " 'ND': 599,\n",
       " 'NE': 568,\n",
       " 'NH': 516,\n",
       " 'NJ': 513,\n",
       " 'NM': 542,\n",
       " 'NV': 515,\n",
       " 'NY': 505,\n",
       " 'OH': 439,\n",
       " 'OK': 561,\n",
       " 'OR': 526,\n",
       " 'PA': 499,\n",
       " 'RI': 499,\n",
       " 'SC': 488,\n",
       " 'SD': 582,\n",
       " 'TN': 553,\n",
       " 'TX': 499,\n",
       " 'UT': 570,\n",
       " 'VA': 501,\n",
       " 'VT': 506,\n",
       " 'WA': 527,\n",
       " 'WI': 596,\n",
       " 'WV': 512,\n",
       " 'WY': 545}"
      ]
     },
     "execution_count": 39,
     "metadata": {},
     "output_type": "execute_result"
    }
   ],
   "source": [
    "math_dict = dict(zip(sat_data['State'],sat_data['Math']))\n",
    "math_dict"
   ]
  },
  {
   "cell_type": "code",
   "execution_count": 49,
   "metadata": {
    "scrolled": true
   },
   "outputs": [
    {
     "data": {
      "text/plain": [
       "{'AK': 51,\n",
       " 'AL': 9,\n",
       " 'AR': 6,\n",
       " 'AZ': 34,\n",
       " 'All': 45,\n",
       " 'CA': 51,\n",
       " 'CO': 31,\n",
       " 'CT': 82,\n",
       " 'DC': 56,\n",
       " 'DE': 67,\n",
       " 'FL': 54,\n",
       " 'GA': 63,\n",
       " 'HI': 52,\n",
       " 'IA': 5,\n",
       " 'ID': 17,\n",
       " 'IL': 12,\n",
       " 'IN': 60,\n",
       " 'KS': 9,\n",
       " 'KY': 12,\n",
       " 'LA': 7,\n",
       " 'MA': 79,\n",
       " 'MD': 65,\n",
       " 'ME': 69,\n",
       " 'MI': 11,\n",
       " 'MN': 9,\n",
       " 'MO': 8,\n",
       " 'MS': 4,\n",
       " 'MT': 23,\n",
       " 'NC': 65,\n",
       " 'ND': 4,\n",
       " 'NE': 8,\n",
       " 'NH': 72,\n",
       " 'NJ': 81,\n",
       " 'NM': 13,\n",
       " 'NV': 33,\n",
       " 'NY': 77,\n",
       " 'OH': 26,\n",
       " 'OK': 8,\n",
       " 'OR': 55,\n",
       " 'PA': 71,\n",
       " 'RI': 71,\n",
       " 'SC': 57,\n",
       " 'SD': 4,\n",
       " 'TN': 13,\n",
       " 'TX': 53,\n",
       " 'UT': 5,\n",
       " 'VA': 68,\n",
       " 'VT': 69,\n",
       " 'WA': 53,\n",
       " 'WI': 6,\n",
       " 'WV': 18,\n",
       " 'WY': 11}"
      ]
     },
     "execution_count": 49,
     "metadata": {},
     "output_type": "execute_result"
    }
   ],
   "source": [
    "rate_dict = sat_data.set_index('State')['Rate'].to_dict()"
   ]
  },
  {
   "cell_type": "markdown",
   "metadata": {},
   "source": [
    "##### 11. Create a dictionary with the values for each of the numeric columns"
   ]
  },
  {
   "cell_type": "code",
   "execution_count": 58,
   "metadata": {
    "scrolled": false
   },
   "outputs": [
    {
     "name": "stdout",
     "output_type": "stream",
     "text": [
      "[510, 513, 515, 505, 516, 499, 499, 506, 500, 501, 499, 510, 499, 489, 501, 488, 474, 526, 499, 527, 499, 515, 510, 517, 525, 515, 542, 439, 539, 512, 542, 553, 542, 589, 550, 545, 572, 589, 580, 554, 568, 561, 577, 562, 596, 550, 570, 603, 582, 599, 551, 514]\n"
     ]
    }
   ],
   "source": [
    "math_names = sat_data['Math'].tolist()\n",
    "print math_names"
   ]
  },
  {
   "cell_type": "code",
   "execution_count": 80,
   "metadata": {
    "scrolled": true
   },
   "outputs": [],
   "source": [
    "columns = ['Math','Rate','Verbal']\n",
    "sat_data_dict = {}\n",
    "for column in sat_data.columns[1:4]:\n",
    "    values = sat_data[column].tolist()\n",
    "    sat_data_dict[column] = values\n",
    "    "
   ]
  },
  {
   "cell_type": "code",
   "execution_count": 82,
   "metadata": {},
   "outputs": [
    {
     "data": {
      "text/plain": [
       "{'Math': [510,\n",
       "  513,\n",
       "  515,\n",
       "  505,\n",
       "  516,\n",
       "  499,\n",
       "  499,\n",
       "  506,\n",
       "  500,\n",
       "  501,\n",
       "  499,\n",
       "  510,\n",
       "  499,\n",
       "  489,\n",
       "  501,\n",
       "  488,\n",
       "  474,\n",
       "  526,\n",
       "  499,\n",
       "  527,\n",
       "  499,\n",
       "  515,\n",
       "  510,\n",
       "  517,\n",
       "  525,\n",
       "  515,\n",
       "  542,\n",
       "  439,\n",
       "  539,\n",
       "  512,\n",
       "  542,\n",
       "  553,\n",
       "  542,\n",
       "  589,\n",
       "  550,\n",
       "  545,\n",
       "  572,\n",
       "  589,\n",
       "  580,\n",
       "  554,\n",
       "  568,\n",
       "  561,\n",
       "  577,\n",
       "  562,\n",
       "  596,\n",
       "  550,\n",
       "  570,\n",
       "  603,\n",
       "  582,\n",
       "  599,\n",
       "  551,\n",
       "  514],\n",
       " 'Rate': [82,\n",
       "  81,\n",
       "  79,\n",
       "  77,\n",
       "  72,\n",
       "  71,\n",
       "  71,\n",
       "  69,\n",
       "  69,\n",
       "  68,\n",
       "  67,\n",
       "  65,\n",
       "  65,\n",
       "  63,\n",
       "  60,\n",
       "  57,\n",
       "  56,\n",
       "  55,\n",
       "  54,\n",
       "  53,\n",
       "  53,\n",
       "  52,\n",
       "  51,\n",
       "  51,\n",
       "  34,\n",
       "  33,\n",
       "  31,\n",
       "  26,\n",
       "  23,\n",
       "  18,\n",
       "  17,\n",
       "  13,\n",
       "  13,\n",
       "  12,\n",
       "  12,\n",
       "  11,\n",
       "  11,\n",
       "  9,\n",
       "  9,\n",
       "  9,\n",
       "  8,\n",
       "  8,\n",
       "  8,\n",
       "  7,\n",
       "  6,\n",
       "  6,\n",
       "  5,\n",
       "  5,\n",
       "  4,\n",
       "  4,\n",
       "  4,\n",
       "  45],\n",
       " 'Verbal': [509,\n",
       "  499,\n",
       "  511,\n",
       "  495,\n",
       "  520,\n",
       "  501,\n",
       "  500,\n",
       "  511,\n",
       "  506,\n",
       "  510,\n",
       "  501,\n",
       "  508,\n",
       "  493,\n",
       "  491,\n",
       "  499,\n",
       "  486,\n",
       "  482,\n",
       "  526,\n",
       "  498,\n",
       "  527,\n",
       "  493,\n",
       "  485,\n",
       "  514,\n",
       "  498,\n",
       "  523,\n",
       "  509,\n",
       "  539,\n",
       "  534,\n",
       "  539,\n",
       "  527,\n",
       "  543,\n",
       "  562,\n",
       "  551,\n",
       "  576,\n",
       "  550,\n",
       "  547,\n",
       "  561,\n",
       "  580,\n",
       "  577,\n",
       "  559,\n",
       "  562,\n",
       "  567,\n",
       "  577,\n",
       "  564,\n",
       "  584,\n",
       "  562,\n",
       "  575,\n",
       "  593,\n",
       "  577,\n",
       "  592,\n",
       "  566,\n",
       "  506]}"
      ]
     },
     "execution_count": 82,
     "metadata": {},
     "output_type": "execute_result"
    }
   ],
   "source": [
    "sat_data_dict"
   ]
  },
  {
   "cell_type": "markdown",
   "metadata": {},
   "source": [
    "## Step 3: Describe the data"
   ]
  },
  {
   "cell_type": "markdown",
   "metadata": {},
   "source": [
    "##### 12. Print the min and max of each column"
   ]
  },
  {
   "cell_type": "code",
   "execution_count": 83,
   "metadata": {},
   "outputs": [
    {
     "data": {
      "text/plain": [
       "4"
      ]
     },
     "execution_count": 83,
     "metadata": {},
     "output_type": "execute_result"
    }
   ],
   "source": [
    "sat_data['Rate'].min()"
   ]
  },
  {
   "cell_type": "code",
   "execution_count": 84,
   "metadata": {
    "scrolled": true
   },
   "outputs": [
    {
     "data": {
      "text/plain": [
       "82"
      ]
     },
     "execution_count": 84,
     "metadata": {},
     "output_type": "execute_result"
    }
   ],
   "source": [
    "sat_data['Rate'].max()"
   ]
  },
  {
   "cell_type": "code",
   "execution_count": 85,
   "metadata": {},
   "outputs": [
    {
     "data": {
      "text/plain": [
       "439"
      ]
     },
     "execution_count": 85,
     "metadata": {},
     "output_type": "execute_result"
    }
   ],
   "source": [
    "sat_data['Math'].min()"
   ]
  },
  {
   "cell_type": "code",
   "execution_count": 86,
   "metadata": {},
   "outputs": [
    {
     "data": {
      "text/plain": [
       "603"
      ]
     },
     "execution_count": 86,
     "metadata": {},
     "output_type": "execute_result"
    }
   ],
   "source": [
    "sat_data['Math'].max()"
   ]
  },
  {
   "cell_type": "code",
   "execution_count": 87,
   "metadata": {},
   "outputs": [
    {
     "data": {
      "text/plain": [
       "482"
      ]
     },
     "execution_count": 87,
     "metadata": {},
     "output_type": "execute_result"
    }
   ],
   "source": [
    "sat_data['Verbal'].min()"
   ]
  },
  {
   "cell_type": "code",
   "execution_count": 88,
   "metadata": {},
   "outputs": [
    {
     "data": {
      "text/plain": [
       "593"
      ]
     },
     "execution_count": 88,
     "metadata": {},
     "output_type": "execute_result"
    }
   ],
   "source": [
    "sat_data['Verbal'].max()"
   ]
  },
  {
   "cell_type": "code",
   "execution_count": 260,
   "metadata": {},
   "outputs": [
    {
     "data": {
      "text/plain": [
       "Index([u'Rate', u'Verbal', u'Math'], dtype='object')"
      ]
     },
     "execution_count": 260,
     "metadata": {},
     "output_type": "execute_result"
    }
   ],
   "source": [
    "sat_data.columns[1:4]"
   ]
  },
  {
   "cell_type": "code",
   "execution_count": 299,
   "metadata": {},
   "outputs": [],
   "source": [
    "def min_max(df):\n",
    "    for c in df.columns[1:4]:\n",
    "        title = c\n",
    "        min = df[c].min()\n",
    "        max = df[c].max()\n",
    "        print 'Column: ' + c, '- min: '+ str(min), 'max: '+ str(max)"
   ]
  },
  {
   "cell_type": "code",
   "execution_count": 300,
   "metadata": {
    "scrolled": false
   },
   "outputs": [
    {
     "name": "stdout",
     "output_type": "stream",
     "text": [
      "Column: Rate - min: 4 max: 82\n",
      "Column: Verbal - min: 482 max: 593\n",
      "Column: Math - min: 439 max: 603\n"
     ]
    }
   ],
   "source": [
    "min_max(sat_data)"
   ]
  },
  {
   "cell_type": "code",
   "execution_count": 455,
   "metadata": {},
   "outputs": [],
   "source": [
    "from collections import OrderedDict"
   ]
  },
  {
   "cell_type": "code",
   "execution_count": 466,
   "metadata": {},
   "outputs": [],
   "source": [
    "def df_min_max(df):\n",
    "    min_list = []\n",
    "    max_list = []\n",
    "    for c in df.columns[1:4]:\n",
    "        title = c\n",
    "        min = df[c].min()\n",
    "        max = df[c].max()\n",
    "        min_list.append(min)\n",
    "        max_list.append(max)\n",
    "    df = pd.DataFrame(OrderedDict({'Subject':df.columns[1:4],'Min':min_list,'Max':max_list}))\n",
    "    return df[[\"Subject\",'Min','Max']] "
   ]
  },
  {
   "cell_type": "code",
   "execution_count": 465,
   "metadata": {
    "scrolled": true
   },
   "outputs": [
    {
     "data": {
      "text/html": [
       "<div>\n",
       "<style scoped>\n",
       "    .dataframe tbody tr th:only-of-type {\n",
       "        vertical-align: middle;\n",
       "    }\n",
       "\n",
       "    .dataframe tbody tr th {\n",
       "        vertical-align: top;\n",
       "    }\n",
       "\n",
       "    .dataframe thead th {\n",
       "        text-align: right;\n",
       "    }\n",
       "</style>\n",
       "<table border=\"1\" class=\"dataframe\">\n",
       "  <thead>\n",
       "    <tr style=\"text-align: right;\">\n",
       "      <th></th>\n",
       "      <th>Subject</th>\n",
       "      <th>Min</th>\n",
       "      <th>Max</th>\n",
       "    </tr>\n",
       "  </thead>\n",
       "  <tbody>\n",
       "    <tr>\n",
       "      <th>0</th>\n",
       "      <td>Rate</td>\n",
       "      <td>4</td>\n",
       "      <td>82</td>\n",
       "    </tr>\n",
       "    <tr>\n",
       "      <th>1</th>\n",
       "      <td>Verbal</td>\n",
       "      <td>482</td>\n",
       "      <td>593</td>\n",
       "    </tr>\n",
       "    <tr>\n",
       "      <th>2</th>\n",
       "      <td>Math</td>\n",
       "      <td>439</td>\n",
       "      <td>603</td>\n",
       "    </tr>\n",
       "  </tbody>\n",
       "</table>\n",
       "</div>"
      ],
      "text/plain": [
       "  Subject  Min  Max\n",
       "0    Rate    4   82\n",
       "1  Verbal  482  593\n",
       "2    Math  439  603"
      ]
     },
     "execution_count": 465,
     "metadata": {},
     "output_type": "execute_result"
    }
   ],
   "source": [
    "df_min_max(sat_data)"
   ]
  },
  {
   "cell_type": "markdown",
   "metadata": {},
   "source": [
    "##### 13. Write a function using only list comprehensions, no loops, to compute Standard Deviation. Print the Standard Deviation of each numeric column."
   ]
  },
  {
   "cell_type": "code",
   "execution_count": 252,
   "metadata": {
    "scrolled": true
   },
   "outputs": [],
   "source": [
    "sat_data_rate = sat_data['Rate'].tolist()\n"
   ]
  },
  {
   "cell_type": "code",
   "execution_count": 179,
   "metadata": {},
   "outputs": [
    {
     "data": {
      "text/plain": [
       "36.01497509887448"
      ]
     },
     "execution_count": 179,
     "metadata": {},
     "output_type": "execute_result"
    }
   ],
   "source": [
    "sat_data['Math'].std()"
   ]
  },
  {
   "cell_type": "code",
   "execution_count": 139,
   "metadata": {},
   "outputs": [],
   "source": [
    "import numpy as np"
   ]
  },
  {
   "cell_type": "code",
   "execution_count": 161,
   "metadata": {},
   "outputs": [
    {
     "name": "stdout",
     "output_type": "stream",
     "text": [
      "27.0194976718271\n"
     ]
    }
   ],
   "source": [
    "suma = 0\n",
    "for x in sat_data_rate:\n",
    "    mean = sat_data['Rate'].mean()\n",
    "    n = sat_data['Rate'].count()\n",
    "    diff = (x-mean)**2\n",
    "    suma += diff\n",
    "print np.sqrt(suma/n-1)"
   ]
  },
  {
   "cell_type": "code",
   "execution_count": 176,
   "metadata": {},
   "outputs": [],
   "source": [
    "def standard_deviation(list_num):\n",
    "    suma = 0\n",
    "    for x in list_num:\n",
    "        mean = list_num.mean()\n",
    "        n = list_num.count()\n",
    "        diff = (x-mean)**2\n",
    "        suma += diff\n",
    "    return np.sqrt(suma/n-1)"
   ]
  },
  {
   "cell_type": "code",
   "execution_count": 178,
   "metadata": {},
   "outputs": [
    {
     "data": {
      "text/plain": [
       "35.652974846211855"
      ]
     },
     "execution_count": 178,
     "metadata": {},
     "output_type": "execute_result"
    }
   ],
   "source": [
    "standard_deviation(sat_data['Math'])"
   ]
  },
  {
   "cell_type": "markdown",
   "metadata": {},
   "source": [
    "## Step 4: Visualize the data"
   ]
  },
  {
   "cell_type": "markdown",
   "metadata": {
    "collapsed": true
   },
   "source": [
    "##### 14. Using MatPlotLib and PyPlot, plot the distribution of the Rate using histograms."
   ]
  },
  {
   "cell_type": "code",
   "execution_count": 105,
   "metadata": {
    "scrolled": true
   },
   "outputs": [
    {
     "data": {
      "text/plain": [
       "2.0"
      ]
     },
     "execution_count": 105,
     "metadata": {},
     "output_type": "execute_result"
    }
   ],
   "source": [
    "np.sqrt(4)"
   ]
  },
  {
   "cell_type": "code",
   "execution_count": 180,
   "metadata": {},
   "outputs": [],
   "source": [
    "import matplotlib.pyplot as plt"
   ]
  },
  {
   "cell_type": "code",
   "execution_count": 182,
   "metadata": {},
   "outputs": [
    {
     "data": {
      "image/png": "[encoded data removed]",
      "text/plain": [
       "<matplotlib.figure.Figure at 0x10c20e610>"
      ]
     },
     "metadata": {},
     "output_type": "display_data"
    }
   ],
   "source": [
    "plt.hist(sat_data['Rate']);"
   ]
  },
  {
   "cell_type": "markdown",
   "metadata": {},
   "source": [
    "##### 15. Plot the Math distribution"
   ]
  },
  {
   "cell_type": "code",
   "execution_count": 183,
   "metadata": {},
   "outputs": [
    {
     "data": {
      "image/png": "[encoded data removed]",
      "text/plain": [
       "<matplotlib.figure.Figure at 0x110ce3cd0>"
      ]
     },
     "metadata": {},
     "output_type": "display_data"
    }
   ],
   "source": [
    "plt.hist(sat_data['Math']);"
   ]
  },
  {
   "cell_type": "markdown",
   "metadata": {},
   "source": [
    "##### 16. Plot the Verbal distribution"
   ]
  },
  {
   "cell_type": "code",
   "execution_count": 184,
   "metadata": {},
   "outputs": [
    {
     "data": {
      "image/png": "[encoded data removed]",
      "text/plain": [
       "<matplotlib.figure.Figure at 0x110d035d0>"
      ]
     },
     "metadata": {},
     "output_type": "display_data"
    }
   ],
   "source": [
    "plt.hist(sat_data['Verbal']);"
   ]
  },
  {
   "cell_type": "markdown",
   "metadata": {},
   "source": [
    "##### 17. What is the typical assumption for data distribution?"
   ]
  },
  {
   "cell_type": "markdown",
   "metadata": {},
   "source": [
    "Type Markdown and LaTeX:  α2α2"
   ]
  },
  {
   "cell_type": "markdown",
   "metadata": {},
   "source": [
    "##### 18. Does that distribution hold true for our data?"
   ]
  },
  {
   "cell_type": "markdown",
   "metadata": {},
   "source": [
    "No"
   ]
  },
  {
   "cell_type": "markdown",
   "metadata": {},
   "source": [
    "##### 19. Plot some scatterplots. **BONUS**: Use a PyPlot `figure` to present multiple plots at once."
   ]
  },
  {
   "cell_type": "code",
   "execution_count": null,
   "metadata": {},
   "outputs": [],
   "source": []
  },
  {
   "cell_type": "code",
   "execution_count": 217,
   "metadata": {
    "scrolled": true
   },
   "outputs": [
    {
     "data": {
      "image/png": "[encoded data removed]",
      "text/plain": [
       "<matplotlib.figure.Figure at 0x117897990>"
      ]
     },
     "metadata": {},
     "output_type": "display_data"
    }
   ],
   "source": [
    "fig = plt.figure(figsize=(20,4))\n",
    "ax1 = plt.subplot(1,3,1)\n",
    "ax1.scatter(sat_data['Rate'],sat_data['Verbal'])\n",
    "ax1.set_title('Rate vs Verbal')\n",
    "ax2 = plt.subplot(1,3,2)\n",
    "ax2.scatter(sat_data['Rate'],sat_data['Math'], c='Red')\n",
    "ax2.set_title('Rate vs Math')\n",
    "ax3 = plt.subplot(1,3,3)\n",
    "ax3.scatter(sat_data['Math'],sat_data['Verbal'], c='Green')\n",
    "ax3.set_title('Math vs Verbal')\n",
    "\n",
    "plt.show()"
   ]
  },
  {
   "cell_type": "markdown",
   "metadata": {},
   "source": [
    "##### 19.1 Normalize data"
   ]
  },
  {
   "cell_type": "code",
   "execution_count": 220,
   "metadata": {},
   "outputs": [],
   "source": [
    "from sklearn import preprocessing"
   ]
  },
  {
   "cell_type": "code",
   "execution_count": 240,
   "metadata": {},
   "outputs": [],
   "source": [
    "x = sat_data[['Rate']].values.astype(float)\n",
    "min_max_scaler = preprocessing.MinMaxScaler()\n",
    "x_scaled = min_max_scaler.fit_transform(x)"
   ]
  },
  {
   "cell_type": "code",
   "execution_count": 243,
   "metadata": {},
   "outputs": [],
   "source": [
    "y = sat_data[['Math']].values.astype(float)\n",
    "min_max_scaler = preprocessing.MinMaxScaler()\n",
    "y_scaled = min_max_scaler.fit_transform(y)"
   ]
  },
  {
   "cell_type": "code",
   "execution_count": 245,
   "metadata": {},
   "outputs": [],
   "source": [
    "v = sat_data[['Verbal']].values.astype(float)\n",
    "min_max_scaler = preprocessing.MinMaxScaler()\n",
    "v_scaled = min_max_scaler.fit_transform(v)"
   ]
  },
  {
   "cell_type": "code",
   "execution_count": 242,
   "metadata": {
    "collapsed": true
   },
   "outputs": [
    {
     "data": {
      "text/plain": [
       "array([[1.        ],\n",
       "       [0.98717949],\n",
       "       [0.96153846],\n",
       "       [0.93589744],\n",
       "       [0.87179487],\n",
       "       [0.85897436],\n",
       "       [0.85897436],\n",
       "       [0.83333333],\n",
       "       [0.83333333],\n",
       "       [0.82051282],\n",
       "       [0.80769231],\n",
       "       [0.78205128],\n",
       "       [0.78205128],\n",
       "       [0.75641026],\n",
       "       [0.71794872],\n",
       "       [0.67948718],\n",
       "       [0.66666667],\n",
       "       [0.65384615],\n",
       "       [0.64102564],\n",
       "       [0.62820513],\n",
       "       [0.62820513],\n",
       "       [0.61538462],\n",
       "       [0.6025641 ],\n",
       "       [0.6025641 ],\n",
       "       [0.38461538],\n",
       "       [0.37179487],\n",
       "       [0.34615385],\n",
       "       [0.28205128],\n",
       "       [0.24358974],\n",
       "       [0.17948718],\n",
       "       [0.16666667],\n",
       "       [0.11538462],\n",
       "       [0.11538462],\n",
       "       [0.1025641 ],\n",
       "       [0.1025641 ],\n",
       "       [0.08974359],\n",
       "       [0.08974359],\n",
       "       [0.06410256],\n",
       "       [0.06410256],\n",
       "       [0.06410256],\n",
       "       [0.05128205],\n",
       "       [0.05128205],\n",
       "       [0.05128205],\n",
       "       [0.03846154],\n",
       "       [0.02564103],\n",
       "       [0.02564103],\n",
       "       [0.01282051],\n",
       "       [0.01282051],\n",
       "       [0.        ],\n",
       "       [0.        ],\n",
       "       [0.        ],\n",
       "       [0.52564103]])"
      ]
     },
     "execution_count": 242,
     "metadata": {},
     "output_type": "execute_result"
    }
   ],
   "source": [
    "x_scaled"
   ]
  },
  {
   "cell_type": "code",
   "execution_count": 244,
   "metadata": {
    "collapsed": true
   },
   "outputs": [
    {
     "data": {
      "text/plain": [
       "array([[0.43292683],\n",
       "       [0.45121951],\n",
       "       [0.46341463],\n",
       "       [0.40243902],\n",
       "       [0.4695122 ],\n",
       "       [0.36585366],\n",
       "       [0.36585366],\n",
       "       [0.40853659],\n",
       "       [0.37195122],\n",
       "       [0.37804878],\n",
       "       [0.36585366],\n",
       "       [0.43292683],\n",
       "       [0.36585366],\n",
       "       [0.30487805],\n",
       "       [0.37804878],\n",
       "       [0.29878049],\n",
       "       [0.21341463],\n",
       "       [0.5304878 ],\n",
       "       [0.36585366],\n",
       "       [0.53658537],\n",
       "       [0.36585366],\n",
       "       [0.46341463],\n",
       "       [0.43292683],\n",
       "       [0.47560976],\n",
       "       [0.52439024],\n",
       "       [0.46341463],\n",
       "       [0.62804878],\n",
       "       [0.        ],\n",
       "       [0.6097561 ],\n",
       "       [0.44512195],\n",
       "       [0.62804878],\n",
       "       [0.69512195],\n",
       "       [0.62804878],\n",
       "       [0.91463415],\n",
       "       [0.67682927],\n",
       "       [0.64634146],\n",
       "       [0.81097561],\n",
       "       [0.91463415],\n",
       "       [0.8597561 ],\n",
       "       [0.70121951],\n",
       "       [0.78658537],\n",
       "       [0.74390244],\n",
       "       [0.84146341],\n",
       "       [0.75      ],\n",
       "       [0.95731707],\n",
       "       [0.67682927],\n",
       "       [0.79878049],\n",
       "       [1.        ],\n",
       "       [0.87195122],\n",
       "       [0.97560976],\n",
       "       [0.68292683],\n",
       "       [0.45731707]])"
      ]
     },
     "execution_count": 244,
     "metadata": {},
     "output_type": "execute_result"
    }
   ],
   "source": [
    "y_scaled"
   ]
  },
  {
   "cell_type": "code",
   "execution_count": 246,
   "metadata": {
    "collapsed": true
   },
   "outputs": [
    {
     "data": {
      "text/plain": [
       "array([[0.24324324],\n",
       "       [0.15315315],\n",
       "       [0.26126126],\n",
       "       [0.11711712],\n",
       "       [0.34234234],\n",
       "       [0.17117117],\n",
       "       [0.16216216],\n",
       "       [0.26126126],\n",
       "       [0.21621622],\n",
       "       [0.25225225],\n",
       "       [0.17117117],\n",
       "       [0.23423423],\n",
       "       [0.0990991 ],\n",
       "       [0.08108108],\n",
       "       [0.15315315],\n",
       "       [0.03603604],\n",
       "       [0.        ],\n",
       "       [0.3963964 ],\n",
       "       [0.14414414],\n",
       "       [0.40540541],\n",
       "       [0.0990991 ],\n",
       "       [0.02702703],\n",
       "       [0.28828829],\n",
       "       [0.14414414],\n",
       "       [0.36936937],\n",
       "       [0.24324324],\n",
       "       [0.51351351],\n",
       "       [0.46846847],\n",
       "       [0.51351351],\n",
       "       [0.40540541],\n",
       "       [0.54954955],\n",
       "       [0.72072072],\n",
       "       [0.62162162],\n",
       "       [0.84684685],\n",
       "       [0.61261261],\n",
       "       [0.58558559],\n",
       "       [0.71171171],\n",
       "       [0.88288288],\n",
       "       [0.85585586],\n",
       "       [0.69369369],\n",
       "       [0.72072072],\n",
       "       [0.76576577],\n",
       "       [0.85585586],\n",
       "       [0.73873874],\n",
       "       [0.91891892],\n",
       "       [0.72072072],\n",
       "       [0.83783784],\n",
       "       [1.        ],\n",
       "       [0.85585586],\n",
       "       [0.99099099],\n",
       "       [0.75675676],\n",
       "       [0.21621622]])"
      ]
     },
     "execution_count": 246,
     "metadata": {},
     "output_type": "execute_result"
    }
   ],
   "source": [
    "v_scaled"
   ]
  },
  {
   "cell_type": "code",
   "execution_count": 247,
   "metadata": {},
   "outputs": [
    {
     "data": {
      "image/png": "[encoded data removed]",
      "text/plain": [
       "<matplotlib.figure.Figure at 0x11b91ed10>"
      ]
     },
     "metadata": {},
     "output_type": "display_data"
    }
   ],
   "source": [
    "fig = plt.figure(figsize=(20,4))\n",
    "ax1 = plt.subplot(1,3,1)\n",
    "ax1.scatter(x_scaled,v_scaled)\n",
    "ax1.set_title('Rate vs Verbal')\n",
    "ax2 = plt.subplot(1,3,2)\n",
    "ax2.scatter(x_scaled,y_scaled, c='Red')\n",
    "ax2.set_title('Rate vs Math')\n",
    "ax3 = plt.subplot(1,3,3)\n",
    "ax3.scatter(y_scaled,v_scaled, c='Green')\n",
    "ax3.set_title('Math vs Verbal')\n",
    "\n",
    "plt.show()"
   ]
  },
  {
   "cell_type": "markdown",
   "metadata": {},
   "source": [
    "##### 20. Are there any interesting relationships to note?"
   ]
  },
  {
   "cell_type": "markdown",
   "metadata": {},
   "source": []
  },
  {
   "cell_type": "markdown",
   "metadata": {},
   "source": [
    "##### 21. Create box plots for each variable. "
   ]
  },
  {
   "cell_type": "code",
   "execution_count": 251,
   "metadata": {},
   "outputs": [
    {
     "data": {
      "image/png": "[encoded data removed]",
      "text/plain": [
       "<matplotlib.figure.Figure at 0x11868d350>"
      ]
     },
     "metadata": {},
     "output_type": "display_data"
    }
   ],
   "source": [
    "fig = plt.figure(figsize=(20,4))\n",
    "ax1 = plt.subplot(1,3,1)\n",
    "ax1.boxplot(sat_data['Rate'])\n",
    "ax1.set_title('Rate vs Verbal')\n",
    "ax2 = plt.subplot(1,3,2)\n",
    "ax2.boxplot(sat_data['Math'])\n",
    "ax2.set_title('Rate vs Math')\n",
    "ax3 = plt.subplot(1,3,3)\n",
    "ax3.boxplot(sat_data['Verbal'])\n",
    "ax3.set_title('Math vs Verbal')\n",
    "\n",
    "plt.show()"
   ]
  },
  {
   "cell_type": "code",
   "execution_count": 249,
   "metadata": {
    "scrolled": true
   },
   "outputs": [
    {
     "data": {
      "image/png": "[encoded data removed]",
      "text/plain": [
       "<matplotlib.figure.Figure at 0x11b91e1d0>"
      ]
     },
     "metadata": {},
     "output_type": "display_data"
    }
   ],
   "source": [
    "plt.boxplot(sat_data['Rate']);"
   ]
  },
  {
   "cell_type": "markdown",
   "metadata": {},
   "source": [
    "##### BONUS: Using Tableau, create a heat map for each variable using a map of the US. "
   ]
  },
  {
   "cell_type": "code",
   "execution_count": null,
   "metadata": {},
   "outputs": [],
   "source": []
  }
 ],
 "metadata": {
  "anaconda-cloud": {},
  "kernelspec": {
   "display_name": "Python 2",
   "language": "python",
   "name": "python2"
  },
  "language_info": {
   "codemirror_mode": {
    "name": "ipython",
    "version": 2
   },
   "file_extension": ".py",
   "mimetype": "text/x-python",
   "name": "python",
   "nbconvert_exporter": "python",
   "pygments_lexer": "ipython2",
   "version": "2.7.14"
  }
 },
 "nbformat": 4,
 "nbformat_minor": 1
}
